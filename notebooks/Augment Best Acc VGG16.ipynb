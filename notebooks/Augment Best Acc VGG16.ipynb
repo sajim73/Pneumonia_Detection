{
 "cells": [
  {
   "cell_type": "code",
   "execution_count": 1,
   "id": "709c7f86-cc5e-4bc0-9066-974071d0413d",
   "metadata": {},
   "outputs": [],
   "source": [
    "import os\n",
    "import warnings\n",
    "import shutil\n",
    "import random\n",
    "import numpy as np\n",
    "import pandas as pd\n",
    "import matplotlib.pyplot as plt\n",
    "import sklearn.metrics as metrics\n",
    "from sklearn.metrics import confusion_matrix, accuracy_score\n",
    "\n",
    "import keras\n",
    "import tensorflow as tf\n",
    "from tensorflow import keras\n",
    "from keras import backend as K\n",
    "from keras.callbacks import LearningRateScheduler\n",
    "from tensorflow.keras.models import Sequential\n",
    "from tensorflow.keras.preprocessing.image import ImageDataGenerator, img_to_array, load_img\n",
    "from keras.callbacks import EarlyStopping\n",
    "from tensorflow.keras.layers import Conv2D, MaxPooling2D, Flatten, Dense\n",
    "from tensorflow.keras.optimizers import Adam\n",
    "from tensorflow.keras.losses import SparseCategoricalCrossentropy\n",
    "from tensorflow.keras.preprocessing.image import ImageDataGenerator\n",
    "from sklearn.model_selection import train_test_split\n",
    "from sklearn.metrics import classification_report\n",
    "\n",
    "warnings.filterwarnings(action=\"ignore\")\n",
    "%matplotlib inline\n",
    "\n",
    "annealer = LearningRateScheduler(lambda x: 1e-3 * 0.95 ** x, verbose=0)"
   ]
  },
  {
   "cell_type": "code",
   "execution_count": 2,
   "id": "724b9c32-df1b-4339-ab0a-634a8e8db8e7",
   "metadata": {},
   "outputs": [],
   "source": [
    "# Define file paths\n",
    "healthy_dirs = [\n",
    "    'test/NORMAL',\n",
    "    'train/NORMAL',\n",
    "    'val/NORMAL',\n",
    "]\n",
    "\n",
    "pneumonia_dir = [ \n",
    "    'test/PNEUMONIA',\n",
    "    'train/PNEUMONIA',\n",
    "    'val/PNEUMONIA',\n",
    "]"
   ]
  },
  {
   "cell_type": "code",
   "execution_count": 3,
   "id": "3383a523-6239-4ebc-b777-76479e7ce966",
   "metadata": {},
   "outputs": [
    {
     "name": "stdout",
     "output_type": "stream",
     "text": [
      "                       filepaths  labels\n",
      "0  test/NORMAL\\IM-0001-0001.jpeg  Normal\n",
      "1  test/NORMAL\\IM-0003-0001.jpeg  Normal\n",
      "2  test/NORMAL\\IM-0005-0001.jpeg  Normal\n",
      "3  test/NORMAL\\IM-0006-0001.jpeg  Normal\n",
      "4  test/NORMAL\\IM-0007-0001.jpeg  Normal\n",
      "labels\n",
      "Pneumonia    4274\n",
      "Normal       1583\n",
      "Name: count, dtype: int64\n"
     ]
    }
   ],
   "source": [
    "filepaths = []\n",
    "labels = []\n",
    "dict_lists = [healthy_dirs, pneumonia_dir]\n",
    "class_labels = ['Normal', 'Pneumonia']\n",
    "\n",
    "for i, dir_list in enumerate(dict_lists):\n",
    "    for j in dir_list:\n",
    "        flist = os.listdir(j)\n",
    "        for f in flist:\n",
    "            fpath = os.path.join(j, f)\n",
    "            filepaths.append(fpath)\n",
    "            labels.append(class_labels[i])\n",
    "\n",
    "Fseries = pd.Series(filepaths, name=\"filepaths\")\n",
    "Lseries = pd.Series(labels, name=\"labels\")\n",
    "pneumonia_data = pd.concat([Fseries, Lseries], axis=1)\n",
    "pneumonia_df = pd.DataFrame(pneumonia_data)\n",
    "print(pneumonia_df.head())\n",
    "print(pneumonia_df[\"labels\"].value_counts())"
   ]
  },
  {
   "cell_type": "code",
   "execution_count": 4,
   "id": "4f9b3d1f-04f9-4fd7-ac5e-1501d53a1e48",
   "metadata": {},
   "outputs": [
    {
     "data": {
      "text/plain": [
       "(5857, 2)"
      ]
     },
     "execution_count": 4,
     "metadata": {},
     "output_type": "execute_result"
    }
   ],
   "source": [
    "pneumonia_df.shape"
   ]
  },
  {
   "cell_type": "code",
   "execution_count": 5,
   "id": "22dd527a-7422-43ee-9d9f-b7dc265c2272",
   "metadata": {},
   "outputs": [],
   "source": [
    "# Augmentation setup for normal images\n",
    "normal_image_paths = pneumonia_df[pneumonia_df['labels'] == 'Normal']['filepaths'].tolist()\n",
    "augmented_image_path = 'augmented/NORMAL/'  # Folder to save augmented images\n",
    "os.makedirs(augmented_image_path, exist_ok=True)\n",
    "\n",
    "# Define ImageDataGenerator for augmentation\n",
    "datagen = ImageDataGenerator(\n",
    "    rotation_range=20,\n",
    "    width_shift_range=0.1,\n",
    "    height_shift_range=0.1,\n",
    "    shear_range=0.2,\n",
    "    zoom_range=0.2,\n",
    "    horizontal_flip=True,\n",
    "    fill_mode='nearest'\n",
    ")\n",
    "\n",
    "# Function to save augmented images\n",
    "def augment_image(image_path, save_dir, save_prefix, save_format='jpeg', n_copies=5):\n",
    "    img = load_img(image_path)  # Load image\n",
    "    x = img_to_array(img)  # Convert image to array\n",
    "    x = x.reshape((1,) + x.shape)  # Reshape for ImageDataGenerator\n",
    "\n",
    "    # Generate and save augmented images\n",
    "    i = 0\n",
    "    for batch in datagen.flow(x, batch_size=1, save_to_dir=save_dir, save_prefix=save_prefix, save_format=save_format):\n",
    "        i += 1\n",
    "        if i >= n_copies:\n",
    "            break"
   ]
  },
  {
   "cell_type": "code",
   "execution_count": 6,
   "id": "30aba177-f647-43c3-a0ce-6140b543965a",
   "metadata": {},
   "outputs": [],
   "source": [
    "# Apply augmentation to the normal images\n",
    "#for img_path in normal_image_paths:\n",
    "    #img_name = os.path.basename(img_path).split('.')[0]\n",
    "    #augment_image(img_path, augmented_image_path, img_name)"
   ]
  },
  {
   "cell_type": "code",
   "execution_count": 7,
   "id": "5226c331-599b-4128-8d68-3964da0e4c81",
   "metadata": {},
   "outputs": [
    {
     "name": "stdout",
     "output_type": "stream",
     "text": [
      "Number of augmented images generated: 7912\n"
     ]
    }
   ],
   "source": [
    "# Print the number of augmented images generated\n",
    "augmented_images = os.listdir(augmented_image_path)\n",
    "print(f\"Number of augmented images generated: {len(augmented_images)}\")"
   ]
  },
  {
   "cell_type": "code",
   "execution_count": 8,
   "id": "ecb233aa-7b27-4f48-a55a-6a3a28ec2f4e",
   "metadata": {},
   "outputs": [
    {
     "name": "stdout",
     "output_type": "stream",
     "text": [
      "                                           filepaths     labels\n",
      "0  augmented/NORMAL/NORMAL2-IM-1277-0001_0_9474.jpeg     Normal\n",
      "1          augmented/NORMAL/IM-0084-0001_0_3767.jpeg     Normal\n",
      "2          augmented/NORMAL/IM-0298-0001_0_3578.jpeg     Normal\n",
      "3         train/PNEUMONIA\\person1190_virus_2031.jpeg  Pneumonia\n",
      "4  augmented/NORMAL/NORMAL2-IM-1138-0001_0_2514.jpeg     Normal\n",
      "labels\n",
      "Normal       9495\n",
      "Pneumonia    4274\n",
      "Name: count, dtype: int64\n"
     ]
    }
   ],
   "source": [
    "# Load augmented images and add to the original dataset\n",
    "augmented_filepaths = [os.path.join(augmented_image_path, img) for img in os.listdir(augmented_image_path)]\n",
    "augmented_labels = ['Normal'] * len(augmented_filepaths)\n",
    "\n",
    "# Create a new DataFrame for augmented images\n",
    "augmented_Fseries = pd.Series(augmented_filepaths, name=\"filepaths\")\n",
    "augmented_Lseries = pd.Series(augmented_labels, name=\"labels\")\n",
    "augmented_data = pd.concat([augmented_Fseries, augmented_Lseries], axis=1)\n",
    "\n",
    "# Append augmented data to the original dataset\n",
    "updated_pneumonia_df = pd.concat([pneumonia_df, augmented_data], ignore_index=True)\n",
    "\n",
    "# Shuffle the updated DataFrame to mix augmented and original data\n",
    "updated_pneumonia_df = updated_pneumonia_df.sample(frac=1).reset_index(drop=True)\n",
    "\n",
    "print(updated_pneumonia_df.head())\n",
    "print(updated_pneumonia_df[\"labels\"].value_counts())"
   ]
  },
  {
   "cell_type": "code",
   "execution_count": 9,
   "id": "5ad9c71f-f5bb-4a32-a6b0-d088591a0521",
   "metadata": {},
   "outputs": [
    {
     "name": "stdout",
     "output_type": "stream",
     "text": [
      "(9654, 2)\n",
      "(2066, 2)\n",
      "(2049, 2)\n"
     ]
    }
   ],
   "source": [
    "# First split into train + validation (80%) and test set (20%)\n",
    "train_val_df, test_df = train_test_split(updated_pneumonia_df, test_size=0.15, stratify=updated_pneumonia_df['labels'])\n",
    "\n",
    "# Now split train + validation into training set (80% of 80%) and validation set (20% of 80%)\n",
    "train_df, val_df = train_test_split(train_val_df, test_size=0.175, stratify=train_val_df['labels'])\n",
    "\n",
    "print(train_df.shape)\n",
    "#print(train_set.shape)\n",
    "print(test_df.shape)\n",
    "#print(test_set.shape)\n",
    "print(val_df.shape)\n",
    "#print(val_set.shape)"
   ]
  },
  {
   "cell_type": "code",
   "execution_count": 10,
   "id": "8baa3258-0702-4599-a7e3-663118ca53a9",
   "metadata": {},
   "outputs": [
    {
     "name": "stdout",
     "output_type": "stream",
     "text": [
      "Found 9653 validated image filenames belonging to 2 classes.\n",
      "Found 2049 validated image filenames belonging to 2 classes.\n",
      "Found 2066 validated image filenames belonging to 2 classes.\n"
     ]
    }
   ],
   "source": [
    "# Define ImageDataGenerator for training (with real-time augmentation)\n",
    "train_datagen = ImageDataGenerator(\n",
    "    rescale=1./255,\n",
    "    rotation_range=20,\n",
    "    width_shift_range=0.1,\n",
    "    height_shift_range=0.1,\n",
    "    shear_range=0.2,\n",
    "    zoom_range=0.2,\n",
    "    horizontal_flip=True\n",
    ")\n",
    "\n",
    "# Define ImageDataGenerator for validation (no augmentation, only rescaling)\n",
    "val_datagen = ImageDataGenerator(rescale=1./255)\n",
    "test_datagen = ImageDataGenerator(rescale=1./255)\n",
    "\n",
    "# Create the generators\n",
    "train_generator = train_datagen.flow_from_dataframe(\n",
    "    train_df,\n",
    "    x_col='filepaths',\n",
    "    y_col='labels',\n",
    "    target_size=(150, 150),\n",
    "    batch_size=32,\n",
    "    class_mode='binary'\n",
    ")\n",
    "\n",
    "val_generator = val_datagen.flow_from_dataframe(\n",
    "    val_df,\n",
    "    x_col='filepaths',\n",
    "    y_col='labels',\n",
    "    target_size=(150, 150),\n",
    "    batch_size=32,\n",
    "    class_mode='binary'\n",
    ")\n",
    "\n",
    "test_generator = test_datagen.flow_from_dataframe(\n",
    "    test_df,\n",
    "    x_col='filepaths',\n",
    "    y_col='labels',\n",
    "    target_size=(150, 150),\n",
    "    batch_size=32,\n",
    "    class_mode='binary',\n",
    "    shuffle=False  # Test set should not be shuffled\n",
    ")"
   ]
  },
  {
   "cell_type": "code",
   "execution_count": 11,
   "id": "43c2978d-946d-4e48-bd9c-d3f4b9d5de4d",
   "metadata": {},
   "outputs": [
    {
     "name": "stdout",
     "output_type": "stream",
     "text": [
      "Found 9653 validated image filenames belonging to 2 classes.\n",
      "Found 2066 validated image filenames belonging to 2 classes.\n",
      "Found 2049 validated image filenames belonging to 2 classes.\n"
     ]
    }
   ],
   "source": [
    "image_gen = ImageDataGenerator(preprocessing_function= tf.keras.applications.mobilenet_v2.preprocess_input)\n",
    "train = image_gen.flow_from_dataframe(dataframe= train_df,x_col=\"filepaths\",y_col=\"labels\",\n",
    "                                      target_size=(244,244),\n",
    "                                      color_mode='rgb',\n",
    "                                      class_mode=\"categorical\", #used for Sequential Model\n",
    "                                      batch_size=4,\n",
    "                                      shuffle=False            #do not shuffle data\n",
    "                                     )\n",
    "test = image_gen.flow_from_dataframe(dataframe= test_df,x_col=\"filepaths\", y_col=\"labels\",\n",
    "                                     target_size=(244,244),\n",
    "                                     color_mode='rgb',\n",
    "                                     class_mode=\"categorical\",\n",
    "                                     batch_size=4,\n",
    "                                     shuffle= False\n",
    "                                    )\n",
    "val = image_gen.flow_from_dataframe(dataframe= val_df,x_col=\"filepaths\", y_col=\"labels\",\n",
    "                                    target_size=(244,244),\n",
    "                                    color_mode= 'rgb',\n",
    "                                    class_mode=\"categorical\",\n",
    "                                    batch_size=4,\n",
    "                                    shuffle=False\n",
    "                                   )"
   ]
  },
  {
   "cell_type": "code",
   "execution_count": 12,
   "id": "2485ea1e-b853-443e-b9f1-e65b3090621e",
   "metadata": {},
   "outputs": [
    {
     "name": "stdout",
     "output_type": "stream",
     "text": [
      "['Normal', 'Pneumonia']\n"
     ]
    }
   ],
   "source": [
    "classes=list(train_generator.class_indices.keys())\n",
    "print (classes)\n",
    "\n",
    "\n",
    "def show_knee_images(image_gen):\n",
    "    test_dict = test.class_indices\n",
    "    classes = list(test_dict.keys())\n",
    "    images, labels=next(image_gen) # get a sample batch from the generator\n",
    "    plt.figure(figsize=(20,20))\n",
    "    length = len(labels)\n",
    "    if length<25:\n",
    "        r=length\n",
    "    else:\n",
    "        r=25\n",
    "    for i in range(r):\n",
    "        plt.subplot(5,5,i+1)\n",
    "        image=(images[i]+1)/2 #scale images between 0 and 1\n",
    "        plt.imshow(image)\n",
    "        index=np.argmax(labels[i])\n",
    "        class_name=classes[index]\n",
    "        plt.title(class_name, color=\"green\",fontsize=16)\n",
    "        plt.axis('off')\n",
    "    plt.show()\n",
    "    show_knee_images(train)"
   ]
  },
  {
   "cell_type": "code",
   "execution_count": 13,
   "id": "6fc5d65c-722e-4fb3-a396-70d0ce23d615",
   "metadata": {},
   "outputs": [
    {
     "name": "stdout",
     "output_type": "stream",
     "text": [
      "Model: \"model\"\n",
      "_________________________________________________________________\n",
      " Layer (type)                Output Shape              Param #   \n",
      "=================================================================\n",
      " input_1 (InputLayer)        [(None, 224, 224, 3)]     0         \n",
      "                                                                 \n",
      " block1_conv1 (Conv2D)       (None, 224, 224, 64)      1792      \n",
      "                                                                 \n",
      " block1_conv2 (Conv2D)       (None, 224, 224, 64)      36928     \n",
      "                                                                 \n",
      " block1_pool (MaxPooling2D)  (None, 112, 112, 64)      0         \n",
      "                                                                 \n",
      " block2_conv1 (Conv2D)       (None, 112, 112, 128)     73856     \n",
      "                                                                 \n",
      " block2_conv2 (Conv2D)       (None, 112, 112, 128)     147584    \n",
      "                                                                 \n",
      " block2_pool (MaxPooling2D)  (None, 56, 56, 128)       0         \n",
      "                                                                 \n",
      " block3_conv1 (Conv2D)       (None, 56, 56, 256)       295168    \n",
      "                                                                 \n",
      " block3_conv2 (Conv2D)       (None, 56, 56, 256)       590080    \n",
      "                                                                 \n",
      " block3_conv3 (Conv2D)       (None, 56, 56, 256)       590080    \n",
      "                                                                 \n",
      " block3_conv4 (Conv2D)       (None, 56, 56, 256)       590080    \n",
      "                                                                 \n",
      " block3_pool (MaxPooling2D)  (None, 28, 28, 256)       0         \n",
      "                                                                 \n",
      " block4_conv1 (Conv2D)       (None, 28, 28, 512)       1180160   \n",
      "                                                                 \n",
      " block4_conv2 (Conv2D)       (None, 28, 28, 512)       2359808   \n",
      "                                                                 \n",
      " block4_conv3 (Conv2D)       (None, 28, 28, 512)       2359808   \n",
      "                                                                 \n",
      " block4_conv4 (Conv2D)       (None, 28, 28, 512)       2359808   \n",
      "                                                                 \n",
      " block4_pool (MaxPooling2D)  (None, 14, 14, 512)       0         \n",
      "                                                                 \n",
      " block5_conv1 (Conv2D)       (None, 14, 14, 512)       2359808   \n",
      "                                                                 \n",
      " block5_conv2 (Conv2D)       (None, 14, 14, 512)       2359808   \n",
      "                                                                 \n",
      " block5_conv3 (Conv2D)       (None, 14, 14, 512)       2359808   \n",
      "                                                                 \n",
      " block5_conv4 (Conv2D)       (None, 14, 14, 512)       2359808   \n",
      "                                                                 \n",
      " block5_pool (MaxPooling2D)  (None, 7, 7, 512)         0         \n",
      "                                                                 \n",
      " flatten (Flatten)           (None, 25088)             0         \n",
      "                                                                 \n",
      " dense (Dense)               (None, 1024)              25691136  \n",
      "                                                                 \n",
      " dense_1 (Dense)             (None, 2)                 2050      \n",
      "                                                                 \n",
      "=================================================================\n",
      "Total params: 45,717,570\n",
      "Trainable params: 45,717,570\n",
      "Non-trainable params: 0\n",
      "_________________________________________________________________\n"
     ]
    }
   ],
   "source": [
    "from tensorflow.keras.applications import VGG19\n",
    "\n",
    "def vgg19_model():\n",
    "    base_model = VGG19(weights='imagenet', include_top=False, input_shape=(224, 224, 3))\n",
    "    x = tf.keras.layers.Flatten()(base_model.output)\n",
    "    x = tf.keras.layers.Dense(1024, activation='relu')(x)\n",
    "    x = tf.keras.layers.Dense(2, activation='softmax')(x)\n",
    "    model = tf.keras.Model(inputs=base_model.input, outputs=x)\n",
    "    model.compile(optimizer='adam', loss='categorical_crossentropy', metrics=['accuracy'])\n",
    "    return model\n",
    "\n",
    "vgg19 = vgg19_model()\n",
    "vgg19.summary()"
   ]
  },
  {
   "cell_type": "code",
   "execution_count": 14,
   "id": "ff561ec5-23cb-4f4d-8e4c-db2ca7ee9fe1",
   "metadata": {},
   "outputs": [],
   "source": [
    "# EarlyStopping callback\n",
    "early_stopping = EarlyStopping(monitor='val_loss', # You can also use 'val_accuracy' depending on your goal\n",
    "                               patience=7,        # Number of epochs to wait after no improvement\n",
    "                               restore_best_weights=True,  # Restore model weights from the epoch with the best value of the monitored metric\n",
    "                               verbose=1)"
   ]
  },
  {
   "cell_type": "code",
   "execution_count": null,
   "id": "a547a3ac-777b-4f3a-9320-e300f760d35b",
   "metadata": {},
   "outputs": [
    {
     "name": "stdout",
     "output_type": "stream",
     "text": [
      "Epoch 1/50\n",
      "  38/2414 [..............................] - ETA: 1:30:12 - loss: 77.5519 - accuracy: 0.5658"
     ]
    }
   ],
   "source": [
    "# Fit the model with early stopping\n",
    "history = vgg19.fit(train,\n",
    "                    validation_data=val,\n",
    "                    epochs=50,   # You can set a high number, early stopping will stop earlier if there's no improvement\n",
    "                    callbacks=[early_stopping],  # Pass early stopping in the callbacks list\n",
    "                    verbose=1)"
   ]
  },
  {
   "cell_type": "code",
   "execution_count": null,
   "id": "2478aa60-dbd9-4512-8f45-57639225c25a",
   "metadata": {},
   "outputs": [],
   "source": [
    "vgg19.evaluate(test, verbose=1)"
   ]
  },
  {
   "cell_type": "code",
   "execution_count": null,
   "id": "76ee047e-f98a-48f3-bcfa-bf06b345fee6",
   "metadata": {},
   "outputs": [],
   "source": [
    "vgg19.save(\"pneumonia_Model.h5\")\n",
    "pred = vgg19.predict(test)\n",
    "pred = np.argmax(pred, axis=1) #pick class with highest  probability\n",
    "\n",
    "labels = (train.class_indices)\n",
    "labels = dict((v,k) for k,v in labels.items())\n",
    "pred2 = [labels[k] for k in pred]"
   ]
  },
  {
   "cell_type": "code",
   "execution_count": null,
   "id": "25effc5b-e05f-4bf3-b027-b4e6cb863d44",
   "metadata": {},
   "outputs": [],
   "source": [
    "plt.plot(history.history['accuracy'])\n",
    "plt.plot(history.history['val_accuracy'])\n",
    "plt.title('model accuracy')\n",
    "plt.ylabel('accuracy')\n",
    "plt.xlabel('epoch')\n",
    "plt.legend(['train', 'val'], loc='upper left')\n",
    "plt.show()"
   ]
  },
  {
   "cell_type": "code",
   "execution_count": null,
   "id": "de6fe7ce-6776-4165-b55c-306d2c6df823",
   "metadata": {},
   "outputs": [],
   "source": [
    "plt.plot(history.history['loss'])\n",
    "plt.plot(history.history['val_loss'])\n",
    "plt.title('model loss')\n",
    "plt.ylabel('loss')\n",
    "plt.xlabel('epoch')\n",
    "plt.legend(['train', 'val'], loc='upper left')\n",
    "plt.show()"
   ]
  },
  {
   "cell_type": "code",
   "execution_count": null,
   "id": "0ed246f1-be37-4c2f-9fba-c0f699803c98",
   "metadata": {},
   "outputs": [],
   "source": [
    "y_test = test_df.labels\n",
    "print(classification_report(y_test, pred2))\n",
    "print(\"Accuracy of the Model:\",\"{:.1f}%\".format(accuracy_score(y_test, pred2)*100))"
   ]
  },
  {
   "cell_type": "code",
   "execution_count": null,
   "id": "c402b856-cb66-4651-8ff4-be694010fe72",
   "metadata": {},
   "outputs": [],
   "source": [
    "cm = confusion_matrix(y_test, pred2)\n",
    "print(cm)"
   ]
  },
  {
   "cell_type": "code",
   "execution_count": null,
   "id": "b21ddf90-844b-4330-bb4f-3bdd9277cda9",
   "metadata": {},
   "outputs": [],
   "source": []
  }
 ],
 "metadata": {
  "kernelspec": {
   "display_name": "Python 3 (ipykernel)",
   "language": "python",
   "name": "python3"
  },
  "language_info": {
   "codemirror_mode": {
    "name": "ipython",
    "version": 3
   },
   "file_extension": ".py",
   "mimetype": "text/x-python",
   "name": "python",
   "nbconvert_exporter": "python",
   "pygments_lexer": "ipython3",
   "version": "3.9.19"
  }
 },
 "nbformat": 4,
 "nbformat_minor": 5
}
